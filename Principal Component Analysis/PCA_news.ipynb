{
 "cells": [
  {
   "cell_type": "markdown",
   "id": "72adb111-7952-4862-98c5-56632ff1e284",
   "metadata": {},
   "source": [
    "### PCA - Principal Component Analysis  \n",
    "--------------------"
   ]
  },
  {
   "cell_type": "markdown",
   "id": "5ad4120f-4ddf-4a59-b128-d88cb49c7cac",
   "metadata": {},
   "source": [
    "Dataset: Online News Popularity  \n",
    "Данные о публикации новостей и количестве репостов в социальных сетях  \n",
    "Target variable: \"shares\" - number of shares"
   ]
  },
  {
   "cell_type": "markdown",
   "id": "b79fa58d-d076-4330-a3b7-3a14d1b6f708",
   "metadata": {},
   "source": [
    "**Content**  \n",
    "[1. Imports](#1.-Imports)  \n",
    "[2. Data loading](#2.-Data-loading)  \n",
    "[3. Data exploration](#3.-Data-exploration)  \n",
    "[4. Data preparation](#4.-Data-preparation)  \n",
    "[5.1. PCA including categories and numerical data](#5.1.-PCA-including-categories-and-numerical-data)  \n",
    "[5.2. PCA including only numerical data](#5.2.-PCA-including-only-numerical-data)  \n",
    "[6. Model evaluation](#6.-Model-evaluation)  \n",
    "[References](#References)"
   ]
  },
  {
   "cell_type": "markdown",
   "id": "6d7c6996-b9bb-43c1-bf5b-2a31880fc767",
   "metadata": {},
   "source": [
    "  "
   ]
  },
  {
   "cell_type": "markdown",
   "id": "fb8d1ffe-a27e-4371-81e6-159e8771368f",
   "metadata": {},
   "source": [
    "#### 1. Imports"
   ]
  },
  {
   "cell_type": "code",
   "execution_count": 1,
   "id": "8ac2d0ea-e05d-4dc2-bb57-4d51b9205033",
   "metadata": {},
   "outputs": [],
   "source": [
    "import pandas as pd\n",
    "import numpy as np\n",
    "\n",
    "from sklearn.preprocessing import StandardScaler\n",
    "from sklearn.model_selection import train_test_split\n",
    "from sklearn import decomposition\n",
    "from sklearn.ensemble import RandomForestClassifier\n",
    "from sklearn.metrics import accuracy_score\n"
   ]
  },
  {
   "cell_type": "code",
   "execution_count": 2,
   "id": "139f2b73-f15b-4333-900a-56ff73056691",
   "metadata": {},
   "outputs": [],
   "source": [
    "# Function for model accuracy evaluation\n",
    "\n",
    "def model_score(X, y):\n",
    "    # Split the data into train and test parts\n",
    "    X_train, X_test, y_train, y_test = train_test_split(X, y, random_state=1)\n",
    "    # Model training\n",
    "    model = RandomForestClassifier(max_depth=2, random_state=1)\n",
    "    model.fit(X_train, y_train)\n",
    "    score = accuracy_score(y_test, model.predict(X_test))\n",
    "    print('accuracy:', round(score*100, 1), '%')"
   ]
  },
  {
   "cell_type": "markdown",
   "id": "c7012fac-07b9-4d0c-98c6-c14b1959ca4a",
   "metadata": {},
   "source": [
    "  "
   ]
  },
  {
   "cell_type": "markdown",
   "id": "1e64787a-f0a0-488c-a79c-b647dafc55b0",
   "metadata": {},
   "source": [
    "#### 2. Data loading"
   ]
  },
  {
   "cell_type": "code",
   "execution_count": 3,
   "id": "c17777a4-2d21-4161-a2a3-ae7fe55f1702",
   "metadata": {},
   "outputs": [
    {
     "data": {
      "text/html": [
       "<div>\n",
       "<style scoped>\n",
       "    .dataframe tbody tr th:only-of-type {\n",
       "        vertical-align: middle;\n",
       "    }\n",
       "\n",
       "    .dataframe tbody tr th {\n",
       "        vertical-align: top;\n",
       "    }\n",
       "\n",
       "    .dataframe thead th {\n",
       "        text-align: right;\n",
       "    }\n",
       "</style>\n",
       "<table border=\"1\" class=\"dataframe\">\n",
       "  <thead>\n",
       "    <tr style=\"text-align: right;\">\n",
       "      <th></th>\n",
       "      <th>url</th>\n",
       "      <th>timedelta</th>\n",
       "      <th>n_tokens_title</th>\n",
       "      <th>n_tokens_content</th>\n",
       "      <th>n_unique_tokens</th>\n",
       "      <th>n_non_stop_words</th>\n",
       "      <th>n_non_stop_unique_tokens</th>\n",
       "      <th>num_hrefs</th>\n",
       "      <th>num_self_hrefs</th>\n",
       "      <th>num_imgs</th>\n",
       "      <th>...</th>\n",
       "      <th>min_positive_polarity</th>\n",
       "      <th>max_positive_polarity</th>\n",
       "      <th>avg_negative_polarity</th>\n",
       "      <th>min_negative_polarity</th>\n",
       "      <th>max_negative_polarity</th>\n",
       "      <th>title_subjectivity</th>\n",
       "      <th>title_sentiment_polarity</th>\n",
       "      <th>abs_title_subjectivity</th>\n",
       "      <th>abs_title_sentiment_polarity</th>\n",
       "      <th>shares</th>\n",
       "    </tr>\n",
       "  </thead>\n",
       "  <tbody>\n",
       "    <tr>\n",
       "      <th>0</th>\n",
       "      <td>http://mashable.com/2013/01/07/amazon-instant-...</td>\n",
       "      <td>731.0</td>\n",
       "      <td>12.0</td>\n",
       "      <td>219.0</td>\n",
       "      <td>0.663594</td>\n",
       "      <td>1.0</td>\n",
       "      <td>0.815385</td>\n",
       "      <td>4.0</td>\n",
       "      <td>2.0</td>\n",
       "      <td>1.0</td>\n",
       "      <td>...</td>\n",
       "      <td>0.100000</td>\n",
       "      <td>0.7</td>\n",
       "      <td>-0.350000</td>\n",
       "      <td>-0.600</td>\n",
       "      <td>-0.200000</td>\n",
       "      <td>0.500000</td>\n",
       "      <td>-0.187500</td>\n",
       "      <td>0.000000</td>\n",
       "      <td>0.187500</td>\n",
       "      <td>593</td>\n",
       "    </tr>\n",
       "    <tr>\n",
       "      <th>1</th>\n",
       "      <td>http://mashable.com/2013/01/07/ap-samsung-spon...</td>\n",
       "      <td>731.0</td>\n",
       "      <td>9.0</td>\n",
       "      <td>255.0</td>\n",
       "      <td>0.604743</td>\n",
       "      <td>1.0</td>\n",
       "      <td>0.791946</td>\n",
       "      <td>3.0</td>\n",
       "      <td>1.0</td>\n",
       "      <td>1.0</td>\n",
       "      <td>...</td>\n",
       "      <td>0.033333</td>\n",
       "      <td>0.7</td>\n",
       "      <td>-0.118750</td>\n",
       "      <td>-0.125</td>\n",
       "      <td>-0.100000</td>\n",
       "      <td>0.000000</td>\n",
       "      <td>0.000000</td>\n",
       "      <td>0.500000</td>\n",
       "      <td>0.000000</td>\n",
       "      <td>711</td>\n",
       "    </tr>\n",
       "    <tr>\n",
       "      <th>2</th>\n",
       "      <td>http://mashable.com/2013/01/07/apple-40-billio...</td>\n",
       "      <td>731.0</td>\n",
       "      <td>9.0</td>\n",
       "      <td>211.0</td>\n",
       "      <td>0.575130</td>\n",
       "      <td>1.0</td>\n",
       "      <td>0.663866</td>\n",
       "      <td>3.0</td>\n",
       "      <td>1.0</td>\n",
       "      <td>1.0</td>\n",
       "      <td>...</td>\n",
       "      <td>0.100000</td>\n",
       "      <td>1.0</td>\n",
       "      <td>-0.466667</td>\n",
       "      <td>-0.800</td>\n",
       "      <td>-0.133333</td>\n",
       "      <td>0.000000</td>\n",
       "      <td>0.000000</td>\n",
       "      <td>0.500000</td>\n",
       "      <td>0.000000</td>\n",
       "      <td>1500</td>\n",
       "    </tr>\n",
       "    <tr>\n",
       "      <th>3</th>\n",
       "      <td>http://mashable.com/2013/01/07/astronaut-notre...</td>\n",
       "      <td>731.0</td>\n",
       "      <td>9.0</td>\n",
       "      <td>531.0</td>\n",
       "      <td>0.503788</td>\n",
       "      <td>1.0</td>\n",
       "      <td>0.665635</td>\n",
       "      <td>9.0</td>\n",
       "      <td>0.0</td>\n",
       "      <td>1.0</td>\n",
       "      <td>...</td>\n",
       "      <td>0.136364</td>\n",
       "      <td>0.8</td>\n",
       "      <td>-0.369697</td>\n",
       "      <td>-0.600</td>\n",
       "      <td>-0.166667</td>\n",
       "      <td>0.000000</td>\n",
       "      <td>0.000000</td>\n",
       "      <td>0.500000</td>\n",
       "      <td>0.000000</td>\n",
       "      <td>1200</td>\n",
       "    </tr>\n",
       "    <tr>\n",
       "      <th>4</th>\n",
       "      <td>http://mashable.com/2013/01/07/att-u-verse-apps/</td>\n",
       "      <td>731.0</td>\n",
       "      <td>13.0</td>\n",
       "      <td>1072.0</td>\n",
       "      <td>0.415646</td>\n",
       "      <td>1.0</td>\n",
       "      <td>0.540890</td>\n",
       "      <td>19.0</td>\n",
       "      <td>19.0</td>\n",
       "      <td>20.0</td>\n",
       "      <td>...</td>\n",
       "      <td>0.033333</td>\n",
       "      <td>1.0</td>\n",
       "      <td>-0.220192</td>\n",
       "      <td>-0.500</td>\n",
       "      <td>-0.050000</td>\n",
       "      <td>0.454545</td>\n",
       "      <td>0.136364</td>\n",
       "      <td>0.045455</td>\n",
       "      <td>0.136364</td>\n",
       "      <td>505</td>\n",
       "    </tr>\n",
       "  </tbody>\n",
       "</table>\n",
       "<p>5 rows × 61 columns</p>\n",
       "</div>"
      ],
      "text/plain": [
       "                                                 url   timedelta  \\\n",
       "0  http://mashable.com/2013/01/07/amazon-instant-...       731.0   \n",
       "1  http://mashable.com/2013/01/07/ap-samsung-spon...       731.0   \n",
       "2  http://mashable.com/2013/01/07/apple-40-billio...       731.0   \n",
       "3  http://mashable.com/2013/01/07/astronaut-notre...       731.0   \n",
       "4   http://mashable.com/2013/01/07/att-u-verse-apps/       731.0   \n",
       "\n",
       "    n_tokens_title   n_tokens_content   n_unique_tokens   n_non_stop_words  \\\n",
       "0             12.0              219.0          0.663594                1.0   \n",
       "1              9.0              255.0          0.604743                1.0   \n",
       "2              9.0              211.0          0.575130                1.0   \n",
       "3              9.0              531.0          0.503788                1.0   \n",
       "4             13.0             1072.0          0.415646                1.0   \n",
       "\n",
       "    n_non_stop_unique_tokens   num_hrefs   num_self_hrefs   num_imgs  ...  \\\n",
       "0                   0.815385         4.0              2.0        1.0  ...   \n",
       "1                   0.791946         3.0              1.0        1.0  ...   \n",
       "2                   0.663866         3.0              1.0        1.0  ...   \n",
       "3                   0.665635         9.0              0.0        1.0  ...   \n",
       "4                   0.540890        19.0             19.0       20.0  ...   \n",
       "\n",
       "    min_positive_polarity   max_positive_polarity   avg_negative_polarity  \\\n",
       "0                0.100000                     0.7               -0.350000   \n",
       "1                0.033333                     0.7               -0.118750   \n",
       "2                0.100000                     1.0               -0.466667   \n",
       "3                0.136364                     0.8               -0.369697   \n",
       "4                0.033333                     1.0               -0.220192   \n",
       "\n",
       "    min_negative_polarity   max_negative_polarity   title_subjectivity  \\\n",
       "0                  -0.600               -0.200000             0.500000   \n",
       "1                  -0.125               -0.100000             0.000000   \n",
       "2                  -0.800               -0.133333             0.000000   \n",
       "3                  -0.600               -0.166667             0.000000   \n",
       "4                  -0.500               -0.050000             0.454545   \n",
       "\n",
       "    title_sentiment_polarity   abs_title_subjectivity  \\\n",
       "0                  -0.187500                 0.000000   \n",
       "1                   0.000000                 0.500000   \n",
       "2                   0.000000                 0.500000   \n",
       "3                   0.000000                 0.500000   \n",
       "4                   0.136364                 0.045455   \n",
       "\n",
       "    abs_title_sentiment_polarity   shares  \n",
       "0                       0.187500      593  \n",
       "1                       0.000000      711  \n",
       "2                       0.000000     1500  \n",
       "3                       0.000000     1200  \n",
       "4                       0.136364      505  \n",
       "\n",
       "[5 rows x 61 columns]"
      ]
     },
     "execution_count": 3,
     "metadata": {},
     "output_type": "execute_result"
    }
   ],
   "source": [
    "data = pd.read_csv('data/OnlineNewsPopularity.zip', compression='zip')\n",
    "data.head()"
   ]
  },
  {
   "cell_type": "markdown",
   "id": "9e5b9616-0974-4986-97eb-d55a4a4fa65d",
   "metadata": {},
   "source": [
    "  "
   ]
  },
  {
   "cell_type": "markdown",
   "id": "86eaf0cf-cc64-402c-89ec-2c18d87362e3",
   "metadata": {},
   "source": [
    "#### 3. Data exploration"
   ]
  },
  {
   "cell_type": "code",
   "execution_count": 4,
   "id": "bd4ef56f-5877-4c0b-8e49-d6bba8e66444",
   "metadata": {
    "scrolled": true,
    "tags": []
   },
   "outputs": [
    {
     "name": "stdout",
     "output_type": "stream",
     "text": [
      "<class 'pandas.core.frame.DataFrame'>\n",
      "RangeIndex: 39644 entries, 0 to 39643\n",
      "Data columns (total 61 columns):\n",
      " #   Column                          Non-Null Count  Dtype  \n",
      "---  ------                          --------------  -----  \n",
      " 0   url                             39644 non-null  object \n",
      " 1    timedelta                      39644 non-null  float64\n",
      " 2    n_tokens_title                 39644 non-null  float64\n",
      " 3    n_tokens_content               39644 non-null  float64\n",
      " 4    n_unique_tokens                39644 non-null  float64\n",
      " 5    n_non_stop_words               39644 non-null  float64\n",
      " 6    n_non_stop_unique_tokens       39644 non-null  float64\n",
      " 7    num_hrefs                      39644 non-null  float64\n",
      " 8    num_self_hrefs                 39644 non-null  float64\n",
      " 9    num_imgs                       39644 non-null  float64\n",
      " 10   num_videos                     39644 non-null  float64\n",
      " 11   average_token_length           39644 non-null  float64\n",
      " 12   num_keywords                   39644 non-null  float64\n",
      " 13   data_channel_is_lifestyle      39644 non-null  float64\n",
      " 14   data_channel_is_entertainment  39644 non-null  float64\n",
      " 15   data_channel_is_bus            39644 non-null  float64\n",
      " 16   data_channel_is_socmed         39644 non-null  float64\n",
      " 17   data_channel_is_tech           39644 non-null  float64\n",
      " 18   data_channel_is_world          39644 non-null  float64\n",
      " 19   kw_min_min                     39644 non-null  float64\n",
      " 20   kw_max_min                     39644 non-null  float64\n",
      " 21   kw_avg_min                     39644 non-null  float64\n",
      " 22   kw_min_max                     39644 non-null  float64\n",
      " 23   kw_max_max                     39644 non-null  float64\n",
      " 24   kw_avg_max                     39644 non-null  float64\n",
      " 25   kw_min_avg                     39644 non-null  float64\n",
      " 26   kw_max_avg                     39644 non-null  float64\n",
      " 27   kw_avg_avg                     39644 non-null  float64\n",
      " 28   self_reference_min_shares      39644 non-null  float64\n",
      " 29   self_reference_max_shares      39644 non-null  float64\n",
      " 30   self_reference_avg_sharess     39644 non-null  float64\n",
      " 31   weekday_is_monday              39644 non-null  float64\n",
      " 32   weekday_is_tuesday             39644 non-null  float64\n",
      " 33   weekday_is_wednesday           39644 non-null  float64\n",
      " 34   weekday_is_thursday            39644 non-null  float64\n",
      " 35   weekday_is_friday              39644 non-null  float64\n",
      " 36   weekday_is_saturday            39644 non-null  float64\n",
      " 37   weekday_is_sunday              39644 non-null  float64\n",
      " 38   is_weekend                     39644 non-null  float64\n",
      " 39   LDA_00                         39644 non-null  float64\n",
      " 40   LDA_01                         39644 non-null  float64\n",
      " 41   LDA_02                         39644 non-null  float64\n",
      " 42   LDA_03                         39644 non-null  float64\n",
      " 43   LDA_04                         39644 non-null  float64\n",
      " 44   global_subjectivity            39644 non-null  float64\n",
      " 45   global_sentiment_polarity      39644 non-null  float64\n",
      " 46   global_rate_positive_words     39644 non-null  float64\n",
      " 47   global_rate_negative_words     39644 non-null  float64\n",
      " 48   rate_positive_words            39644 non-null  float64\n",
      " 49   rate_negative_words            39644 non-null  float64\n",
      " 50   avg_positive_polarity          39644 non-null  float64\n",
      " 51   min_positive_polarity          39644 non-null  float64\n",
      " 52   max_positive_polarity          39644 non-null  float64\n",
      " 53   avg_negative_polarity          39644 non-null  float64\n",
      " 54   min_negative_polarity          39644 non-null  float64\n",
      " 55   max_negative_polarity          39644 non-null  float64\n",
      " 56   title_subjectivity             39644 non-null  float64\n",
      " 57   title_sentiment_polarity       39644 non-null  float64\n",
      " 58   abs_title_subjectivity         39644 non-null  float64\n",
      " 59   abs_title_sentiment_polarity   39644 non-null  float64\n",
      " 60   shares                         39644 non-null  int64  \n",
      "dtypes: float64(59), int64(1), object(1)\n",
      "memory usage: 18.5+ MB\n"
     ]
    }
   ],
   "source": [
    "data.info()"
   ]
  },
  {
   "cell_type": "markdown",
   "id": "f504f1f7-97ae-4649-9c62-c32828ef967f",
   "metadata": {},
   "source": [
    "В названиях всех столбцов кроме столбца url слева присутствует пробел.  \n",
    "Столбец url не влияет ни на что, удалим его."
   ]
  },
  {
   "cell_type": "code",
   "execution_count": 5,
   "id": "886a8f50-e2a9-4cc2-979b-245e2a738f97",
   "metadata": {},
   "outputs": [],
   "source": [
    "# removing spaces in column names\n",
    "data.columns = data.columns.str.strip()\n",
    "\n",
    "# drop column url\n",
    "data = data.drop(columns='url')"
   ]
  },
  {
   "cell_type": "markdown",
   "id": "c2584140-c159-48d4-8f95-bc6f68aabaf6",
   "metadata": {},
   "source": [
    "We will classify popular and unpopular news using threshold of 1400 shares (mediana)."
   ]
  },
  {
   "cell_type": "code",
   "execution_count": 6,
   "id": "65851572-0e84-4410-9baf-0d1b68b41b86",
   "metadata": {},
   "outputs": [],
   "source": [
    "# Create 2 classes\n",
    "data['popularity']=data['shares'].apply(lambda x: 1 if x>=1400 else 0)"
   ]
  },
  {
   "cell_type": "code",
   "execution_count": 7,
   "id": "0a48bf7a-5434-4153-9eb1-c1e5e448e46e",
   "metadata": {},
   "outputs": [
    {
     "data": {
      "text/html": [
       "<div>\n",
       "<style scoped>\n",
       "    .dataframe tbody tr th:only-of-type {\n",
       "        vertical-align: middle;\n",
       "    }\n",
       "\n",
       "    .dataframe tbody tr th {\n",
       "        vertical-align: top;\n",
       "    }\n",
       "\n",
       "    .dataframe thead th {\n",
       "        text-align: right;\n",
       "    }\n",
       "</style>\n",
       "<table border=\"1\" class=\"dataframe\">\n",
       "  <thead>\n",
       "    <tr style=\"text-align: right;\">\n",
       "      <th></th>\n",
       "      <th>shares</th>\n",
       "      <th>popularity</th>\n",
       "    </tr>\n",
       "  </thead>\n",
       "  <tbody>\n",
       "    <tr>\n",
       "      <th>0</th>\n",
       "      <td>593</td>\n",
       "      <td>0</td>\n",
       "    </tr>\n",
       "    <tr>\n",
       "      <th>1</th>\n",
       "      <td>711</td>\n",
       "      <td>0</td>\n",
       "    </tr>\n",
       "    <tr>\n",
       "      <th>2</th>\n",
       "      <td>1500</td>\n",
       "      <td>1</td>\n",
       "    </tr>\n",
       "    <tr>\n",
       "      <th>3</th>\n",
       "      <td>1200</td>\n",
       "      <td>0</td>\n",
       "    </tr>\n",
       "    <tr>\n",
       "      <th>4</th>\n",
       "      <td>505</td>\n",
       "      <td>0</td>\n",
       "    </tr>\n",
       "  </tbody>\n",
       "</table>\n",
       "</div>"
      ],
      "text/plain": [
       "   shares  popularity\n",
       "0     593           0\n",
       "1     711           0\n",
       "2    1500           1\n",
       "3    1200           0\n",
       "4     505           0"
      ]
     },
     "execution_count": 7,
     "metadata": {},
     "output_type": "execute_result"
    }
   ],
   "source": [
    "data[['shares', 'popularity']].head()"
   ]
  },
  {
   "cell_type": "markdown",
   "id": "5e71880c-93ef-4b14-ae1e-d0ae2859f898",
   "metadata": {},
   "source": [
    "As we redefined the new target value (popularity), let's drop 'shares'."
   ]
  },
  {
   "cell_type": "code",
   "execution_count": 8,
   "id": "466634b1-cd3f-4848-b081-c93a829f5426",
   "metadata": {},
   "outputs": [],
   "source": [
    "data = data.drop(columns=\"shares\")"
   ]
  },
  {
   "cell_type": "markdown",
   "id": "d11ed477-a13c-4bf5-add2-3b81507afb47",
   "metadata": {},
   "source": [
    "Несмотря на то, что почти все переменные имеют тип float, некоторые из них представляют собой бинарные признаки со значениями 0/1."
   ]
  },
  {
   "cell_type": "code",
   "execution_count": 9,
   "id": "e72ab775-36d7-4390-bcc2-04f0f7888c7e",
   "metadata": {},
   "outputs": [
    {
     "name": "stdout",
     "output_type": "stream",
     "text": [
      "data_channel_is_lifestyle [0. 1.]\n",
      "data_channel_is_entertainment [1. 0.]\n",
      "data_channel_is_bus [0. 1.]\n",
      "data_channel_is_socmed [0. 1.]\n",
      "data_channel_is_tech [0. 1.]\n",
      "data_channel_is_world [0. 1.]\n",
      "weekday_is_monday [1. 0.]\n",
      "weekday_is_tuesday [0. 1.]\n",
      "weekday_is_wednesday [0. 1.]\n",
      "weekday_is_thursday [0. 1.]\n",
      "weekday_is_friday [0. 1.]\n",
      "weekday_is_saturday [0. 1.]\n",
      "weekday_is_sunday [0. 1.]\n",
      "is_weekend [0. 1.]\n"
     ]
    }
   ],
   "source": [
    "category = []\n",
    "for column in data.columns[:-1]:   # except column 'popularity'\n",
    "    if data[column].nunique() < 5:\n",
    "        print(column, data[column].unique())\n",
    "        category.append(column)    # saving categorical names to list"
   ]
  },
  {
   "cell_type": "markdown",
   "id": "14c959ac-4089-4e5a-b8f1-ddaa7df3bec8",
   "metadata": {},
   "source": [
    "We will compare using binary predictors in dataset decomposition versus dimensionality reduction with only numerical values.  "
   ]
  },
  {
   "cell_type": "markdown",
   "id": "3a4007b7-8bd2-4a5f-a368-04e809ef1c18",
   "metadata": {},
   "source": [
    "  "
   ]
  },
  {
   "cell_type": "markdown",
   "id": "5f71ef45-4b04-429e-84fe-e7dc38051539",
   "metadata": {},
   "source": [
    "#### 4. Data preparation"
   ]
  },
  {
   "cell_type": "code",
   "execution_count": 10,
   "id": "14a1f452-0dd2-46ca-ba88-a3e9affa4e04",
   "metadata": {},
   "outputs": [
    {
     "data": {
      "text/plain": [
       "0        0\n",
       "1        0\n",
       "2        1\n",
       "3        0\n",
       "4        0\n",
       "        ..\n",
       "39639    1\n",
       "39640    1\n",
       "39641    1\n",
       "39642    0\n",
       "39643    0\n",
       "Name: popularity, Length: 39644, dtype: int64"
      ]
     },
     "execution_count": 10,
     "metadata": {},
     "output_type": "execute_result"
    }
   ],
   "source": [
    "# Splitting the data into X and y (target)\n",
    "\n",
    "X = data.copy()\n",
    "y = X.pop('popularity')   # возвращает элемент датафрейма и удаляет этот элемент из датафрейма\n",
    "y"
   ]
  },
  {
   "cell_type": "markdown",
   "id": "1bd3a412-9b14-423e-8cd3-ea7cdd1fc399",
   "metadata": {},
   "source": [
    "  "
   ]
  },
  {
   "cell_type": "markdown",
   "id": "806dd94f-55b4-4f71-bfb5-2d42f063716e",
   "metadata": {},
   "source": [
    "#### 5.1. PCA including categories and numerical data"
   ]
  },
  {
   "cell_type": "code",
   "execution_count": 11,
   "id": "cd08526d-58a0-4876-a135-1d2166178cf7",
   "metadata": {},
   "outputs": [
    {
     "data": {
      "text/plain": [
       "array([[ 1.75788035,  0.75744723, -0.69521045, ..., -0.97543219,\n",
       "        -1.81071884,  0.13891975],\n",
       "       [ 1.75788035, -0.66165665, -0.61879381, ..., -0.26907618,\n",
       "         0.83774863, -0.68965812],\n",
       "       [ 1.75788035, -0.66165665, -0.71219192, ..., -0.26907618,\n",
       "         0.83774863, -0.68965812],\n",
       "       ...,\n",
       "       [-1.61808342, -0.18862202, -0.2218518 , ...,  0.24463729,\n",
       "        -1.56994907, -0.08705603],\n",
       "       [-1.61808342, -2.08076053,  0.28759248, ..., -0.26907618,\n",
       "         0.83774863, -0.68965812],\n",
       "       [-1.61808342, -0.18862202, -0.82681689, ...,  0.67273184,\n",
       "        -0.92789635,  0.41511238]])"
      ]
     },
     "execution_count": 11,
     "metadata": {},
     "output_type": "execute_result"
    }
   ],
   "source": [
    "# Standardization of X\n",
    "\n",
    "scaler = StandardScaler()\n",
    "X_std = scaler.fit_transform(X)\n",
    "X_std"
   ]
  },
  {
   "cell_type": "code",
   "execution_count": 12,
   "id": "7c4e891a-9a7c-43f0-8323-a018607349c7",
   "metadata": {},
   "outputs": [],
   "source": [
    "# set explained variance greater than 90%\n",
    "\n",
    "pca = decomposition.PCA(n_components=0.9)\n",
    "X_pca = pca.fit_transform(X_std)"
   ]
  },
  {
   "cell_type": "code",
   "execution_count": 13,
   "id": "e9dba6c2-96db-4961-91c1-74a145de3b7b",
   "metadata": {},
   "outputs": [
    {
     "name": "stdout",
     "output_type": "stream",
     "text": [
      "количество исходных компонент 59\n",
      "количество новых компонент 31\n"
     ]
    }
   ],
   "source": [
    "print('количество исходных компонент', X.shape[1])\n",
    "print('количество новых компонент', pca.n_components_)"
   ]
  },
  {
   "cell_type": "code",
   "execution_count": 14,
   "id": "c4e7241e-be1d-4cda-b437-4e5d2b993b24",
   "metadata": {},
   "outputs": [
    {
     "data": {
      "text/plain": [
       "array([0.08275377, 0.06985565, 0.06110151, 0.0508775 , 0.0476545 ,\n",
       "       0.04397503, 0.04309095, 0.03886672, 0.03606727, 0.03525317,\n",
       "       0.03393574, 0.03195266, 0.02806568, 0.02339546, 0.02313933,\n",
       "       0.02094133, 0.02082309, 0.02053416, 0.02022005, 0.01987701,\n",
       "       0.01914187, 0.01839669, 0.0177176 , 0.01543416, 0.01476361,\n",
       "       0.01378702, 0.01224799, 0.01147547, 0.01112622, 0.01035957,\n",
       "       0.00973298])"
      ]
     },
     "execution_count": 14,
     "metadata": {},
     "output_type": "execute_result"
    }
   ],
   "source": [
    "# вклад дисперсий новых компонент\n",
    "pca.explained_variance_ratio_"
   ]
  },
  {
   "cell_type": "code",
   "execution_count": 15,
   "id": "275f8887-14a2-4165-96a5-012071ecb375",
   "metadata": {},
   "outputs": [
    {
     "data": {
      "text/plain": [
       "0.9065637591362583"
      ]
     },
     "execution_count": 15,
     "metadata": {},
     "output_type": "execute_result"
    }
   ],
   "source": [
    "# доля сохраненной дисперсии после понижения размерности\n",
    "sum(pca.explained_variance_ratio_)"
   ]
  },
  {
   "cell_type": "markdown",
   "id": "dd6c79bc-9d0f-43f0-8052-55e431523e8f",
   "metadata": {},
   "source": [
    "  "
   ]
  },
  {
   "cell_type": "markdown",
   "id": "b4b77f72-eaca-412b-969a-9acb6e66fe42",
   "metadata": {},
   "source": [
    "#### 5.2. PCA including only numerical data"
   ]
  },
  {
   "cell_type": "markdown",
   "id": "917019ef-a617-4f96-8fa6-4ca8a93face8",
   "metadata": {},
   "source": [
    "Разделим признаки X на два датафрейма с категориальными и числовыми переменными."
   ]
  },
  {
   "cell_type": "code",
   "execution_count": 16,
   "id": "f4b897d2-232e-4a2a-996f-e951c1406aba",
   "metadata": {},
   "outputs": [
    {
     "name": "stdout",
     "output_type": "stream",
     "text": [
      "(39644, 45)\n",
      "(39644, 14)\n"
     ]
    }
   ],
   "source": [
    "X_num = X.drop(columns=category)\n",
    "X_cat = X[category]\n",
    "print(X_num.shape)\n",
    "print(X_cat.shape)"
   ]
  },
  {
   "cell_type": "code",
   "execution_count": 17,
   "id": "79838355-25d6-40a1-8784-2fe5d50454e8",
   "metadata": {},
   "outputs": [],
   "source": [
    "scaler_num, scaler_cat = StandardScaler(), StandardScaler()\n",
    "Xnum_std = scaler_num.fit_transform(X_num)\n",
    "Xcat_std = scaler_cat.fit_transform(X_cat)"
   ]
  },
  {
   "cell_type": "code",
   "execution_count": 18,
   "id": "08405c91-e075-49b2-bda4-e48597aa5ab0",
   "metadata": {},
   "outputs": [],
   "source": [
    "pca_num = decomposition.PCA(n_components=0.9)\n",
    "Xnum_pca = pca_num.fit_transform(Xnum_std)"
   ]
  },
  {
   "cell_type": "code",
   "execution_count": 20,
   "id": "caed9b46-a09a-45cd-aa5a-e7603357eeb3",
   "metadata": {},
   "outputs": [
    {
     "data": {
      "text/plain": [
       "0.908321934327797"
      ]
     },
     "execution_count": 20,
     "metadata": {},
     "output_type": "execute_result"
    }
   ],
   "source": [
    "# доля сохраненной дисперсии после понижения размерности\n",
    "sum(pca_num.explained_variance_ratio_)"
   ]
  },
  {
   "cell_type": "code",
   "execution_count": 21,
   "id": "e988bdaa-4b4d-4fbf-9e94-2e493c9c2848",
   "metadata": {},
   "outputs": [
    {
     "data": {
      "text/plain": [
       "(39644, 38)"
      ]
     },
     "execution_count": 21,
     "metadata": {},
     "output_type": "execute_result"
    }
   ],
   "source": [
    "# Join reduced data with categorical data\n",
    "X_join = np.hstack((Xnum_pca, Xcat_std))\n",
    "X_join.shape"
   ]
  },
  {
   "cell_type": "markdown",
   "id": "d2ce9b68-16e7-422d-a698-56db972fd77e",
   "metadata": {},
   "source": [
    "After combining PCA-reduced numerical components with categorical variables we got 38 components from 59 initial components. While reducing both numerical and categorical features we got 31 new components from 59."
   ]
  },
  {
   "cell_type": "markdown",
   "id": "5ede5def-5eac-45fe-a334-829a3adbb997",
   "metadata": {},
   "source": [
    "  "
   ]
  },
  {
   "cell_type": "markdown",
   "id": "73cb26e0-1c91-44b4-bc09-1d7263e11b49",
   "metadata": {},
   "source": [
    "#### 6. Model evaluation"
   ]
  },
  {
   "cell_type": "markdown",
   "id": "11c5395e-0fe8-41ae-a85b-96e2dc514a28",
   "metadata": {},
   "source": [
    "According to [1] the best classification model is **Random Forest**."
   ]
  },
  {
   "cell_type": "code",
   "execution_count": 30,
   "id": "f8731ba8-1bba-4ec8-8fb3-e8e7837b7ba3",
   "metadata": {},
   "outputs": [
    {
     "name": "stdout",
     "output_type": "stream",
     "text": [
      "accuracy: 60.3 %\n"
     ]
    }
   ],
   "source": [
    "# After PCA including categories and numerical data\n",
    "model_score(X_pca, y)"
   ]
  },
  {
   "cell_type": "code",
   "execution_count": 28,
   "id": "70e476d0-b143-4c41-961b-c72ad625aad3",
   "metadata": {},
   "outputs": [
    {
     "name": "stdout",
     "output_type": "stream",
     "text": [
      "accuracy: 60.5 %\n"
     ]
    }
   ],
   "source": [
    "# After PCA including only numerical data\n",
    "model_score(X_join, y)"
   ]
  },
  {
   "cell_type": "markdown",
   "id": "9bb60e9e-c490-4a71-a996-8759e0229ce4",
   "metadata": {},
   "source": [
    "There is no significant difference in resulting accuracy between applying PCA only to numerical features or to all features.  \n",
    "So we can go ahead applying PCA to all features.  \n"
   ]
  },
  {
   "cell_type": "markdown",
   "id": "5a58313b-9e9e-4b2d-b49b-105d833fe7c0",
   "metadata": {},
   "source": [
    "  "
   ]
  },
  {
   "cell_type": "markdown",
   "id": "0b95b5a9-b1d9-4ff7-9a7d-9093930b5b51",
   "metadata": {},
   "source": [
    "#### References  \n",
    "  \n",
    "1. K. Fernandes, P. Vinagre and P. Cortez. A Proactive Intelligent Decision\n",
    "    Support System for Predicting the Popularity of Online News. Proceedings\n",
    "    of the 17th EPIA 2015 - Portuguese Conference on Artificial Intelligence,\n",
    "    September, Coimbra, Portugal."
   ]
  },
  {
   "cell_type": "markdown",
   "id": "39fb1385-f605-4b25-a180-6e166435802a",
   "metadata": {},
   "source": [
    "About PCA  \n",
    "- https://habr.com/ru/post/507618/  \n",
    "- https://habr.com/ru/post/304214/  \n",
    "- http://mathprofi.ru/sobstvennye_znachenija_i_sobstvennye_vektory.html  \n",
    "- https://en.wikipedia.org/wiki/Orthogonal_matrix"
   ]
  }
 ],
 "metadata": {
  "kernelspec": {
   "display_name": "Python 3 (ipykernel)",
   "language": "python",
   "name": "python3"
  },
  "language_info": {
   "codemirror_mode": {
    "name": "ipython",
    "version": 3
   },
   "file_extension": ".py",
   "mimetype": "text/x-python",
   "name": "python",
   "nbconvert_exporter": "python",
   "pygments_lexer": "ipython3",
   "version": "3.10.5"
  }
 },
 "nbformat": 4,
 "nbformat_minor": 5
}
